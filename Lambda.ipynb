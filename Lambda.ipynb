{
  "nbformat": 4,
  "nbformat_minor": 0,
  "metadata": {
    "colab": {
      "name": "Lambda.ipynb",
      "provenance": [],
      "authorship_tag": "ABX9TyP5HP7nU9CA9cWIeBdaZOZ8",
      "include_colab_link": true
    },
    "kernelspec": {
      "name": "python3",
      "display_name": "Python 3"
    },
    "language_info": {
      "name": "python"
    }
  },
  "cells": [
    {
      "cell_type": "markdown",
      "metadata": {
        "id": "view-in-github",
        "colab_type": "text"
      },
      "source": [
        "<a href=\"https://colab.research.google.com/github/jon890613/python_skill/blob/main/Lambda.ipynb\" target=\"_parent\"><img src=\"https://colab.research.google.com/assets/colab-badge.svg\" alt=\"Open In Colab\"/></a>"
      ]
    },
    {
      "cell_type": "code",
      "metadata": {
        "colab": {
          "base_uri": "https://localhost:8080/"
        },
        "id": "3_RlsN_QjOMG",
        "outputId": "11823aa3-fb2d-496f-d9ea-32c847f9a7fc"
      },
      "source": [
        "f = lambda x : x + 1\n",
        "f(3)"
      ],
      "execution_count": 1,
      "outputs": [
        {
          "output_type": "execute_result",
          "data": {
            "text/plain": [
              "4"
            ]
          },
          "metadata": {
            "tags": []
          },
          "execution_count": 1
        }
      ]
    },
    {
      "cell_type": "code",
      "metadata": {
        "colab": {
          "base_uri": "https://localhost:8080/"
        },
        "id": "9Bu8XTTOjfQT",
        "outputId": "df701003-9a3b-4e92-ebb8-c908b60e6949"
      },
      "source": [
        "student_tuples = [('jon', 'A', 15),\n",
        "          ('kevin', 'B', 12),\n",
        "          ('lulu', 'B', 10)]\n",
        "sorted(student_tuples, key=lambda student: student[2])"
      ],
      "execution_count": 8,
      "outputs": [
        {
          "output_type": "execute_result",
          "data": {
            "text/plain": [
              "[('lulu', 'B', 10), ('kevin', 'B', 12), ('jon', 'A', 15)]"
            ]
          },
          "metadata": {
            "tags": []
          },
          "execution_count": 8
        }
      ]
    },
    {
      "cell_type": "code",
      "metadata": {
        "colab": {
          "base_uri": "https://localhost:8080/"
        },
        "id": "5onidXqalPP1",
        "outputId": "3ae6262f-d33e-41ab-9153-44c5a8c1d3ef"
      },
      "source": [
        "data = []\n",
        "for i in [0, 1, 2, 3]:\n",
        "  data.append(lambda a, i = i* 2: i * a)\n",
        "print(data[2](3))"
      ],
      "execution_count": 17,
      "outputs": [
        {
          "output_type": "stream",
          "text": [
            "12\n"
          ],
          "name": "stdout"
        }
      ]
    },
    {
      "cell_type": "code",
      "metadata": {
        "colab": {
          "base_uri": "https://localhost:8080/"
        },
        "id": "qeOAQ0djmWP2",
        "outputId": "b0a3347b-f647-4c93-e838-c6e6655b6c9c"
      },
      "source": [
        "data = []\n",
        "for i in [0, 1, 2, 3]:\n",
        "  data.append(lambda a, i = i* 2: i * a)\n",
        "\n",
        "print(data[0](2, 10))"
      ],
      "execution_count": 23,
      "outputs": [
        {
          "output_type": "stream",
          "text": [
            "20\n"
          ],
          "name": "stdout"
        }
      ]
    }
  ]
}